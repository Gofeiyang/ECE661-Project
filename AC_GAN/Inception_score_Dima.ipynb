{
 "cells": [
  {
   "cell_type": "code",
   "execution_count": 1,
   "metadata": {
    "collapsed": true
   },
   "outputs": [],
   "source": [
    "#plot the Losses vs epochs\n",
    "import torch\n",
    "import torch.nn.functional as F\n",
    "from torchvision.models import inception_v3\n",
    "from torchvision.transforms import functional as TF\n",
    "import numpy as np\n",
    "from models_and_tools.ACGAN_paper import *\n",
    "from models_and_tools.ACGAN_simple import *\n",
    "from models_and_tools.functions import *\n",
    "\n",
    "device = 'cuda'"
   ]
  },
  {
   "cell_type": "code",
   "execution_count": 2,
   "outputs": [
    {
     "data": {
      "text/plain": "Discriminator(\n  (main): Sequential(\n    (0): Conv2d(3, 16, kernel_size=(3, 3), stride=(2, 2), padding=(1, 1))\n    (1): LeakyReLU(negative_slope=0.2, inplace=True)\n    (2): Dropout(p=0.5, inplace=False)\n    (3): Conv2d(16, 32, kernel_size=(3, 3), stride=(1, 1), padding=(1, 1))\n    (4): BatchNorm2d(32, eps=1e-05, momentum=0.1, affine=True, track_running_stats=True)\n    (5): LeakyReLU(negative_slope=0.2, inplace=True)\n    (6): Dropout(p=0.5, inplace=False)\n    (7): Conv2d(32, 64, kernel_size=(3, 3), stride=(2, 2), padding=(1, 1))\n    (8): BatchNorm2d(64, eps=1e-05, momentum=0.1, affine=True, track_running_stats=True)\n    (9): LeakyReLU(negative_slope=0.2, inplace=True)\n    (10): Dropout(p=0.5, inplace=False)\n    (11): Conv2d(64, 128, kernel_size=(3, 3), stride=(1, 1), padding=(1, 1))\n    (12): BatchNorm2d(128, eps=1e-05, momentum=0.1, affine=True, track_running_stats=True)\n    (13): LeakyReLU(negative_slope=0.2, inplace=True)\n    (14): Dropout(p=0.5, inplace=False)\n    (15): Conv2d(128, 256, kernel_size=(3, 3), stride=(2, 2), padding=(1, 1))\n    (16): BatchNorm2d(256, eps=1e-05, momentum=0.1, affine=True, track_running_stats=True)\n    (17): LeakyReLU(negative_slope=0.2, inplace=True)\n    (18): Dropout(p=0.5, inplace=False)\n    (19): Conv2d(256, 512, kernel_size=(3, 3), stride=(1, 1), padding=(1, 1))\n    (20): BatchNorm2d(512, eps=1e-05, momentum=0.1, affine=True, track_running_stats=True)\n    (21): LeakyReLU(negative_slope=0.2, inplace=True)\n    (22): Dropout(p=0.5, inplace=False)\n  )\n  (classification): Sequential(\n    (0): Linear(in_features=8192, out_features=11, bias=True)\n    (1): Sigmoid()\n  )\n)"
     },
     "execution_count": 2,
     "metadata": {},
     "output_type": "execute_result"
    }
   ],
   "source": [
    "netG = Generator(conf).to(device)\n",
    "netD = Discriminator(conf).to(device)\n",
    "# Load the weights back into the models\n",
    "netG.load_state_dict(torch.load('netG200.pth'))\n",
    "netD.load_state_dict(torch.load('netD200.pth'))\n",
    "# Make sure to call eval() if you're in inference mode\n",
    "netG.eval()\n",
    "netD.eval()"
   ],
   "metadata": {
    "collapsed": false
   }
  },
  {
   "cell_type": "code",
   "execution_count": 3,
   "outputs": [
    {
     "data": {
      "text/plain": "DiscriminatorP(\n  (main): Sequential(\n    (0): Conv2d(3, 16, kernel_size=(3, 3), stride=(2, 2), padding=(1, 1))\n    (1): LeakyReLU(negative_slope=0.2, inplace=True)\n    (2): Dropout(p=0.5, inplace=False)\n    (3): Conv2d(16, 32, kernel_size=(3, 3), stride=(1, 1), padding=(1, 1))\n    (4): BatchNorm2d(32, eps=1e-05, momentum=0.1, affine=True, track_running_stats=True)\n    (5): LeakyReLU(negative_slope=0.2, inplace=True)\n    (6): Dropout(p=0.5, inplace=False)\n    (7): Conv2d(32, 64, kernel_size=(3, 3), stride=(2, 2), padding=(1, 1))\n    (8): BatchNorm2d(64, eps=1e-05, momentum=0.1, affine=True, track_running_stats=True)\n    (9): LeakyReLU(negative_slope=0.2, inplace=True)\n    (10): Dropout(p=0.5, inplace=False)\n    (11): Conv2d(64, 128, kernel_size=(3, 3), stride=(1, 1), padding=(1, 1))\n    (12): BatchNorm2d(128, eps=1e-05, momentum=0.1, affine=True, track_running_stats=True)\n    (13): LeakyReLU(negative_slope=0.2, inplace=True)\n    (14): Dropout(p=0.5, inplace=False)\n    (15): Conv2d(128, 256, kernel_size=(3, 3), stride=(2, 2), padding=(1, 1))\n    (16): BatchNorm2d(256, eps=1e-05, momentum=0.1, affine=True, track_running_stats=True)\n    (17): LeakyReLU(negative_slope=0.2, inplace=True)\n    (18): Dropout(p=0.5, inplace=False)\n    (19): Conv2d(256, 512, kernel_size=(3, 3), stride=(1, 1), padding=(1, 1))\n    (20): BatchNorm2d(512, eps=1e-05, momentum=0.1, affine=True, track_running_stats=True)\n    (21): LeakyReLU(negative_slope=0.2, inplace=True)\n    (22): Dropout(p=0.5, inplace=False)\n  )\n  (classification): Sequential(\n    (0): Linear(in_features=8192, out_features=11, bias=True)\n    (1): Sigmoid()\n  )\n)"
     },
     "execution_count": 3,
     "metadata": {},
     "output_type": "execute_result"
    }
   ],
   "source": [
    "netGp = GeneratorP(conf).to(device)\n",
    "netDp = DiscriminatorP(conf).to(device)\n",
    "# Load the weights back into the models\n",
    "netGp.load_state_dict(torch.load('netGr.pth'))\n",
    "netDp.load_state_dict(torch.load('netDr.pth'))\n",
    "# Make sure to call eval() if you're in inference mode\n",
    "netGp.eval()\n",
    "netDp.eval()"
   ],
   "metadata": {
    "collapsed": false
   }
  },
  {
   "cell_type": "code",
   "execution_count": 11,
   "outputs": [],
   "source": [
    "\n",
    "\n",
    "def inception_score(images, cuda=True, batch_size=32, resize=False, splits=10):\n",
    "    \"\"\"计算 Inception Score.\n",
    "    参数:\n",
    "    - images: PyTorch tensor, 大小 [N, 3, H, W]\n",
    "    - cuda: 是否使用 GPU\n",
    "    - batch_size: 处理图片的批次大小\n",
    "    - resize: 是否调整图片为 (299, 299)\n",
    "    - splits: 计算分数时数据集分割的数量\n",
    "    \"\"\"\n",
    "    N = len(images)\n",
    "    assert batch_size > 0\n",
    "    assert N > batch_size\n",
    "\n",
    "    # 加载 Inception 模型\n",
    "    inception_model = inception_v3(pretrained=True, transform_input=False)\n",
    "    inception_model.eval()\n",
    "    if cuda:\n",
    "        inception_model.cuda()\n",
    "\n",
    "    def get_pred(x):\n",
    "        if resize:\n",
    "            x = F.interpolate(x, size=(299, 299), mode='bilinear', align_corners=False)\n",
    "        with torch.no_grad():\n",
    "            x = inception_model(x)\n",
    "        return F.softmax(x, dim=1).data.cpu().numpy()\n",
    "\n",
    "    # 计算预测和边缘分布\n",
    "    preds = np.zeros((N, 1000))\n",
    "\n",
    "    for i in range(0, N, batch_size):\n",
    "        batch = images[i:i + batch_size]\n",
    "        if cuda:\n",
    "            batch = batch.cuda()\n",
    "        batch_pred = get_pred(batch)\n",
    "        preds[i:i + batch_size] = batch_pred\n",
    "\n",
    "    # 分割数据，计算 Inception Score\n",
    "    split_scores = []\n",
    "\n",
    "    for k in range(splits):\n",
    "        part = preds[k * (N // splits): (k + 1) * (N // splits), :]\n",
    "        p_y = np.expand_dims(np.mean(part, axis=0), 0)\n",
    "        kl_div = part * (np.log(part + 1e-10) - np.log(p_y + 1e-10))\n",
    "        kl_div = np.mean(np.sum(kl_div, axis=1))\n",
    "        split_scores.append(np.exp(kl_div))\n",
    "\n",
    "    return split_scores\n",
    "\n",
    "# 用法示例\n",
    "# 假设 `generated_images` 是你的生成图片数据, 形状 [N, 3, H, W]\n",
    "# is_mean, is_std = inception_score(generated_images, cuda=True, resize=True, batch_size=32)"
   ],
   "metadata": {
    "collapsed": false
   }
  },
  {
   "cell_type": "code",
   "execution_count": 16,
   "outputs": [],
   "source": [
    "num_images = 500\n",
    "fake_labels = torch.randint(0, conf.num_classes, (num_images,), device=device)\n",
    "fake_images = generate_images(netG, num_images, fake_labels)"
   ],
   "metadata": {
    "collapsed": false
   }
  },
  {
   "cell_type": "code",
   "execution_count": 17,
   "outputs": [
    {
     "name": "stderr",
     "output_type": "stream",
     "text": [
      "C:\\Users\\Cmex-\\AppData\\Local\\Programs\\Python\\Python311\\Lib\\site-packages\\torchvision\\models\\_utils.py:208: UserWarning: The parameter 'pretrained' is deprecated since 0.13 and may be removed in the future, please use 'weights' instead.\n",
      "  warnings.warn(\n",
      "C:\\Users\\Cmex-\\AppData\\Local\\Programs\\Python\\Python311\\Lib\\site-packages\\torchvision\\models\\_utils.py:223: UserWarning: Arguments other than a weight enum or `None` for 'weights' are deprecated since 0.13 and may be removed in the future. The current behavior is equivalent to passing `weights=Inception_V3_Weights.IMAGENET1K_V1`. You can also use `weights=Inception_V3_Weights.DEFAULT` to get the most up-to-date weights.\n",
      "  warnings.warn(msg)\n"
     ]
    }
   ],
   "source": [
    "score1 = inception_score(fake_images, cuda=True, resize=True, batch_size=10)\n",
    "# print(\"Inception Score:\", is_mean)"
   ],
   "metadata": {
    "collapsed": false
   }
  },
  {
   "cell_type": "code",
   "execution_count": 18,
   "outputs": [],
   "source": [
    "num_images = 500\n",
    "fake_labels = torch.randint(0, conf.num_classes, (num_images,), device=device)\n",
    "fake_imagesP = generate_images(netGp, num_images, fake_labels)"
   ],
   "metadata": {
    "collapsed": false
   }
  },
  {
   "cell_type": "code",
   "execution_count": 19,
   "outputs": [
    {
     "name": "stderr",
     "output_type": "stream",
     "text": [
      "C:\\Users\\Cmex-\\AppData\\Local\\Programs\\Python\\Python311\\Lib\\site-packages\\torchvision\\models\\_utils.py:208: UserWarning: The parameter 'pretrained' is deprecated since 0.13 and may be removed in the future, please use 'weights' instead.\n",
      "  warnings.warn(\n",
      "C:\\Users\\Cmex-\\AppData\\Local\\Programs\\Python\\Python311\\Lib\\site-packages\\torchvision\\models\\_utils.py:223: UserWarning: Arguments other than a weight enum or `None` for 'weights' are deprecated since 0.13 and may be removed in the future. The current behavior is equivalent to passing `weights=Inception_V3_Weights.IMAGENET1K_V1`. You can also use `weights=Inception_V3_Weights.DEFAULT` to get the most up-to-date weights.\n",
      "  warnings.warn(msg)\n"
     ]
    }
   ],
   "source": [
    "score2 = inception_score(fake_imagesP, cuda=True, resize=True, batch_size=10)\n",
    "# print(\"Inception Score:\", is_mean)"
   ],
   "metadata": {
    "collapsed": false
   }
  },
  {
   "cell_type": "code",
   "execution_count": 20,
   "outputs": [
    {
     "data": {
      "text/plain": "<Figure size 640x480 with 1 Axes>",
      "image/png": "[encoded data removed]"
     },
     "metadata": {},
     "output_type": "display_data"
    }
   ],
   "source": [
    "import seaborn as sns\n",
    "import pandas as pd\n",
    "import numpy as np\n",
    "# Create a DataFrame\n",
    "df = pd.DataFrame({'AC-GAN': score2, 'AC-GAN (mod)': score1})\n",
    "# Melt the DataFrame to long-format\n",
    "df_long = pd.melt(df, var_name='Model', value_name='Inception Score')\n",
    "# Create a box plot\n",
    "sns.boxplot(x='Model', y='Inception Score', data=df_long)\n",
    "# Optional: Add a title\n",
    "plt.title('Inception Score of GAN models')\n",
    "\n",
    "# Show the plot\n",
    "plt.show()"
   ],
   "metadata": {
    "collapsed": false
   }
  }
 ],
 "metadata": {
  "kernelspec": {
   "display_name": "Python 3",
   "language": "python",
   "name": "python3"
  },
  "language_info": {
   "codemirror_mode": {
    "name": "ipython",
    "version": 2
   },
   "file_extension": ".py",
   "mimetype": "text/x-python",
   "name": "python",
   "nbconvert_exporter": "python",
   "pygments_lexer": "ipython2",
   "version": "2.7.6"
  }
 },
 "nbformat": 4,
 "nbformat_minor": 0
}
