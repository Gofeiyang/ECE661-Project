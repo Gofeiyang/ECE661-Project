{
 "cells": [
  {
   "cell_type": "code",
   "execution_count": 2,
   "metadata": {
    "collapsed": true
   },
   "outputs": [],
   "source": [
    "from models_and_tools.ACGAN_paper import *\n",
    "from models_and_tools.ACGAN_simple import *\n",
    "from models_and_tools.functions import *\n",
    "\n",
    "device = 'cuda'"
   ]
  },
  {
   "cell_type": "markdown",
   "source": [
    "Downloading the model and parameters"
   ],
   "metadata": {
    "collapsed": false
   }
  },
  {
   "cell_type": "code",
   "execution_count": 3,
   "outputs": [
    {
     "data": {
      "text/plain": "Discriminator(\n  (main): Sequential(\n    (0): Conv2d(3, 16, kernel_size=(3, 3), stride=(2, 2), padding=(1, 1))\n    (1): LeakyReLU(negative_slope=0.2, inplace=True)\n    (2): Dropout(p=0.5, inplace=False)\n    (3): Conv2d(16, 32, kernel_size=(3, 3), stride=(1, 1), padding=(1, 1))\n    (4): BatchNorm2d(32, eps=1e-05, momentum=0.1, affine=True, track_running_stats=True)\n    (5): LeakyReLU(negative_slope=0.2, inplace=True)\n    (6): Dropout(p=0.5, inplace=False)\n    (7): Conv2d(32, 64, kernel_size=(3, 3), stride=(2, 2), padding=(1, 1))\n    (8): BatchNorm2d(64, eps=1e-05, momentum=0.1, affine=True, track_running_stats=True)\n    (9): LeakyReLU(negative_slope=0.2, inplace=True)\n    (10): Dropout(p=0.5, inplace=False)\n    (11): Conv2d(64, 128, kernel_size=(3, 3), stride=(1, 1), padding=(1, 1))\n    (12): BatchNorm2d(128, eps=1e-05, momentum=0.1, affine=True, track_running_stats=True)\n    (13): LeakyReLU(negative_slope=0.2, inplace=True)\n    (14): Dropout(p=0.5, inplace=False)\n    (15): Conv2d(128, 256, kernel_size=(3, 3), stride=(2, 2), padding=(1, 1))\n    (16): BatchNorm2d(256, eps=1e-05, momentum=0.1, affine=True, track_running_stats=True)\n    (17): LeakyReLU(negative_slope=0.2, inplace=True)\n    (18): Dropout(p=0.5, inplace=False)\n    (19): Conv2d(256, 512, kernel_size=(3, 3), stride=(1, 1), padding=(1, 1))\n    (20): BatchNorm2d(512, eps=1e-05, momentum=0.1, affine=True, track_running_stats=True)\n    (21): LeakyReLU(negative_slope=0.2, inplace=True)\n    (22): Dropout(p=0.5, inplace=False)\n  )\n  (classification): Sequential(\n    (0): Linear(in_features=8192, out_features=11, bias=True)\n    (1): Sigmoid()\n  )\n)"
     },
     "execution_count": 3,
     "metadata": {},
     "output_type": "execute_result"
    }
   ],
   "source": [
    "netG = Generator(conf).to(device)\n",
    "netD = Discriminator(conf).to(device)\n",
    "# Load the weights back into the models\n",
    "netG.load_state_dict(torch.load('netG4.pth'))\n",
    "netD.load_state_dict(torch.load('netD4.pth'))\n",
    "# Make sure to call eval() if you're in inference mode\n",
    "netG.eval()\n",
    "netD.eval()"
   ],
   "metadata": {
    "collapsed": false
   }
  },
  {
   "cell_type": "code",
   "execution_count": 4,
   "outputs": [
    {
     "name": "stderr",
     "output_type": "stream",
     "text": [
      "C:\\Users\\Cmex-\\AppData\\Local\\Programs\\Python\\Python311\\Lib\\site-packages\\torchvision\\models\\_utils.py:208: UserWarning: The parameter 'pretrained' is deprecated since 0.13 and may be removed in the future, please use 'weights' instead.\n",
      "  warnings.warn(\n",
      "C:\\Users\\Cmex-\\AppData\\Local\\Programs\\Python\\Python311\\Lib\\site-packages\\torchvision\\models\\_utils.py:223: UserWarning: Arguments other than a weight enum or `None` for 'weights' are deprecated since 0.13 and may be removed in the future. The current behavior is equivalent to passing `weights=ResNet50_Weights.IMAGENET1K_V1`. You can also use `weights=ResNet50_Weights.DEFAULT` to get the most up-to-date weights.\n",
      "  warnings.warn(msg)\n"
     ]
    },
    {
     "data": {
      "text/plain": "Sequential(\n  (0): Conv2d(3, 64, kernel_size=(7, 7), stride=(2, 2), padding=(3, 3), bias=False)\n  (1): BatchNorm2d(64, eps=1e-05, momentum=0.1, affine=True, track_running_stats=True)\n  (2): ReLU(inplace=True)\n  (3): MaxPool2d(kernel_size=3, stride=2, padding=1, dilation=1, ceil_mode=False)\n  (4): Sequential(\n    (0): Bottleneck(\n      (conv1): Conv2d(64, 64, kernel_size=(1, 1), stride=(1, 1), bias=False)\n      (bn1): BatchNorm2d(64, eps=1e-05, momentum=0.1, affine=True, track_running_stats=True)\n      (conv2): Conv2d(64, 64, kernel_size=(3, 3), stride=(1, 1), padding=(1, 1), bias=False)\n      (bn2): BatchNorm2d(64, eps=1e-05, momentum=0.1, affine=True, track_running_stats=True)\n      (conv3): Conv2d(64, 256, kernel_size=(1, 1), stride=(1, 1), bias=False)\n      (bn3): BatchNorm2d(256, eps=1e-05, momentum=0.1, affine=True, track_running_stats=True)\n      (relu): ReLU(inplace=True)\n      (downsample): Sequential(\n        (0): Conv2d(64, 256, kernel_size=(1, 1), stride=(1, 1), bias=False)\n        (1): BatchNorm2d(256, eps=1e-05, momentum=0.1, affine=True, track_running_stats=True)\n      )\n    )\n    (1): Bottleneck(\n      (conv1): Conv2d(256, 64, kernel_size=(1, 1), stride=(1, 1), bias=False)\n      (bn1): BatchNorm2d(64, eps=1e-05, momentum=0.1, affine=True, track_running_stats=True)\n      (conv2): Conv2d(64, 64, kernel_size=(3, 3), stride=(1, 1), padding=(1, 1), bias=False)\n      (bn2): BatchNorm2d(64, eps=1e-05, momentum=0.1, affine=True, track_running_stats=True)\n      (conv3): Conv2d(64, 256, kernel_size=(1, 1), stride=(1, 1), bias=False)\n      (bn3): BatchNorm2d(256, eps=1e-05, momentum=0.1, affine=True, track_running_stats=True)\n      (relu): ReLU(inplace=True)\n    )\n    (2): Bottleneck(\n      (conv1): Conv2d(256, 64, kernel_size=(1, 1), stride=(1, 1), bias=False)\n      (bn1): BatchNorm2d(64, eps=1e-05, momentum=0.1, affine=True, track_running_stats=True)\n      (conv2): Conv2d(64, 64, kernel_size=(3, 3), stride=(1, 1), padding=(1, 1), bias=False)\n      (bn2): BatchNorm2d(64, eps=1e-05, momentum=0.1, affine=True, track_running_stats=True)\n      (conv3): Conv2d(64, 256, kernel_size=(1, 1), stride=(1, 1), bias=False)\n      (bn3): BatchNorm2d(256, eps=1e-05, momentum=0.1, affine=True, track_running_stats=True)\n      (relu): ReLU(inplace=True)\n    )\n  )\n  (5): Sequential(\n    (0): Bottleneck(\n      (conv1): Conv2d(256, 128, kernel_size=(1, 1), stride=(1, 1), bias=False)\n      (bn1): BatchNorm2d(128, eps=1e-05, momentum=0.1, affine=True, track_running_stats=True)\n      (conv2): Conv2d(128, 128, kernel_size=(3, 3), stride=(2, 2), padding=(1, 1), bias=False)\n      (bn2): BatchNorm2d(128, eps=1e-05, momentum=0.1, affine=True, track_running_stats=True)\n      (conv3): Conv2d(128, 512, kernel_size=(1, 1), stride=(1, 1), bias=False)\n      (bn3): BatchNorm2d(512, eps=1e-05, momentum=0.1, affine=True, track_running_stats=True)\n      (relu): ReLU(inplace=True)\n      (downsample): Sequential(\n        (0): Conv2d(256, 512, kernel_size=(1, 1), stride=(2, 2), bias=False)\n        (1): BatchNorm2d(512, eps=1e-05, momentum=0.1, affine=True, track_running_stats=True)\n      )\n    )\n    (1): Bottleneck(\n      (conv1): Conv2d(512, 128, kernel_size=(1, 1), stride=(1, 1), bias=False)\n      (bn1): BatchNorm2d(128, eps=1e-05, momentum=0.1, affine=True, track_running_stats=True)\n      (conv2): Conv2d(128, 128, kernel_size=(3, 3), stride=(1, 1), padding=(1, 1), bias=False)\n      (bn2): BatchNorm2d(128, eps=1e-05, momentum=0.1, affine=True, track_running_stats=True)\n      (conv3): Conv2d(128, 512, kernel_size=(1, 1), stride=(1, 1), bias=False)\n      (bn3): BatchNorm2d(512, eps=1e-05, momentum=0.1, affine=True, track_running_stats=True)\n      (relu): ReLU(inplace=True)\n    )\n    (2): Bottleneck(\n      (conv1): Conv2d(512, 128, kernel_size=(1, 1), stride=(1, 1), bias=False)\n      (bn1): BatchNorm2d(128, eps=1e-05, momentum=0.1, affine=True, track_running_stats=True)\n      (conv2): Conv2d(128, 128, kernel_size=(3, 3), stride=(1, 1), padding=(1, 1), bias=False)\n      (bn2): BatchNorm2d(128, eps=1e-05, momentum=0.1, affine=True, track_running_stats=True)\n      (conv3): Conv2d(128, 512, kernel_size=(1, 1), stride=(1, 1), bias=False)\n      (bn3): BatchNorm2d(512, eps=1e-05, momentum=0.1, affine=True, track_running_stats=True)\n      (relu): ReLU(inplace=True)\n    )\n    (3): Bottleneck(\n      (conv1): Conv2d(512, 128, kernel_size=(1, 1), stride=(1, 1), bias=False)\n      (bn1): BatchNorm2d(128, eps=1e-05, momentum=0.1, affine=True, track_running_stats=True)\n      (conv2): Conv2d(128, 128, kernel_size=(3, 3), stride=(1, 1), padding=(1, 1), bias=False)\n      (bn2): BatchNorm2d(128, eps=1e-05, momentum=0.1, affine=True, track_running_stats=True)\n      (conv3): Conv2d(128, 512, kernel_size=(1, 1), stride=(1, 1), bias=False)\n      (bn3): BatchNorm2d(512, eps=1e-05, momentum=0.1, affine=True, track_running_stats=True)\n      (relu): ReLU(inplace=True)\n    )\n  )\n  (6): Sequential(\n    (0): Bottleneck(\n      (conv1): Conv2d(512, 256, kernel_size=(1, 1), stride=(1, 1), bias=False)\n      (bn1): BatchNorm2d(256, eps=1e-05, momentum=0.1, affine=True, track_running_stats=True)\n      (conv2): Conv2d(256, 256, kernel_size=(3, 3), stride=(2, 2), padding=(1, 1), bias=False)\n      (bn2): BatchNorm2d(256, eps=1e-05, momentum=0.1, affine=True, track_running_stats=True)\n      (conv3): Conv2d(256, 1024, kernel_size=(1, 1), stride=(1, 1), bias=False)\n      (bn3): BatchNorm2d(1024, eps=1e-05, momentum=0.1, affine=True, track_running_stats=True)\n      (relu): ReLU(inplace=True)\n      (downsample): Sequential(\n        (0): Conv2d(512, 1024, kernel_size=(1, 1), stride=(2, 2), bias=False)\n        (1): BatchNorm2d(1024, eps=1e-05, momentum=0.1, affine=True, track_running_stats=True)\n      )\n    )\n    (1): Bottleneck(\n      (conv1): Conv2d(1024, 256, kernel_size=(1, 1), stride=(1, 1), bias=False)\n      (bn1): BatchNorm2d(256, eps=1e-05, momentum=0.1, affine=True, track_running_stats=True)\n      (conv2): Conv2d(256, 256, kernel_size=(3, 3), stride=(1, 1), padding=(1, 1), bias=False)\n      (bn2): BatchNorm2d(256, eps=1e-05, momentum=0.1, affine=True, track_running_stats=True)\n      (conv3): Conv2d(256, 1024, kernel_size=(1, 1), stride=(1, 1), bias=False)\n      (bn3): BatchNorm2d(1024, eps=1e-05, momentum=0.1, affine=True, track_running_stats=True)\n      (relu): ReLU(inplace=True)\n    )\n    (2): Bottleneck(\n      (conv1): Conv2d(1024, 256, kernel_size=(1, 1), stride=(1, 1), bias=False)\n      (bn1): BatchNorm2d(256, eps=1e-05, momentum=0.1, affine=True, track_running_stats=True)\n      (conv2): Conv2d(256, 256, kernel_size=(3, 3), stride=(1, 1), padding=(1, 1), bias=False)\n      (bn2): BatchNorm2d(256, eps=1e-05, momentum=0.1, affine=True, track_running_stats=True)\n      (conv3): Conv2d(256, 1024, kernel_size=(1, 1), stride=(1, 1), bias=False)\n      (bn3): BatchNorm2d(1024, eps=1e-05, momentum=0.1, affine=True, track_running_stats=True)\n      (relu): ReLU(inplace=True)\n    )\n    (3): Bottleneck(\n      (conv1): Conv2d(1024, 256, kernel_size=(1, 1), stride=(1, 1), bias=False)\n      (bn1): BatchNorm2d(256, eps=1e-05, momentum=0.1, affine=True, track_running_stats=True)\n      (conv2): Conv2d(256, 256, kernel_size=(3, 3), stride=(1, 1), padding=(1, 1), bias=False)\n      (bn2): BatchNorm2d(256, eps=1e-05, momentum=0.1, affine=True, track_running_stats=True)\n      (conv3): Conv2d(256, 1024, kernel_size=(1, 1), stride=(1, 1), bias=False)\n      (bn3): BatchNorm2d(1024, eps=1e-05, momentum=0.1, affine=True, track_running_stats=True)\n      (relu): ReLU(inplace=True)\n    )\n    (4): Bottleneck(\n      (conv1): Conv2d(1024, 256, kernel_size=(1, 1), stride=(1, 1), bias=False)\n      (bn1): BatchNorm2d(256, eps=1e-05, momentum=0.1, affine=True, track_running_stats=True)\n      (conv2): Conv2d(256, 256, kernel_size=(3, 3), stride=(1, 1), padding=(1, 1), bias=False)\n      (bn2): BatchNorm2d(256, eps=1e-05, momentum=0.1, affine=True, track_running_stats=True)\n      (conv3): Conv2d(256, 1024, kernel_size=(1, 1), stride=(1, 1), bias=False)\n      (bn3): BatchNorm2d(1024, eps=1e-05, momentum=0.1, affine=True, track_running_stats=True)\n      (relu): ReLU(inplace=True)\n    )\n    (5): Bottleneck(\n      (conv1): Conv2d(1024, 256, kernel_size=(1, 1), stride=(1, 1), bias=False)\n      (bn1): BatchNorm2d(256, eps=1e-05, momentum=0.1, affine=True, track_running_stats=True)\n      (conv2): Conv2d(256, 256, kernel_size=(3, 3), stride=(1, 1), padding=(1, 1), bias=False)\n      (bn2): BatchNorm2d(256, eps=1e-05, momentum=0.1, affine=True, track_running_stats=True)\n      (conv3): Conv2d(256, 1024, kernel_size=(1, 1), stride=(1, 1), bias=False)\n      (bn3): BatchNorm2d(1024, eps=1e-05, momentum=0.1, affine=True, track_running_stats=True)\n      (relu): ReLU(inplace=True)\n    )\n  )\n  (7): Sequential(\n    (0): Bottleneck(\n      (conv1): Conv2d(1024, 512, kernel_size=(1, 1), stride=(1, 1), bias=False)\n      (bn1): BatchNorm2d(512, eps=1e-05, momentum=0.1, affine=True, track_running_stats=True)\n      (conv2): Conv2d(512, 512, kernel_size=(3, 3), stride=(2, 2), padding=(1, 1), bias=False)\n      (bn2): BatchNorm2d(512, eps=1e-05, momentum=0.1, affine=True, track_running_stats=True)\n      (conv3): Conv2d(512, 2048, kernel_size=(1, 1), stride=(1, 1), bias=False)\n      (bn3): BatchNorm2d(2048, eps=1e-05, momentum=0.1, affine=True, track_running_stats=True)\n      (relu): ReLU(inplace=True)\n      (downsample): Sequential(\n        (0): Conv2d(1024, 2048, kernel_size=(1, 1), stride=(2, 2), bias=False)\n        (1): BatchNorm2d(2048, eps=1e-05, momentum=0.1, affine=True, track_running_stats=True)\n      )\n    )\n    (1): Bottleneck(\n      (conv1): Conv2d(2048, 512, kernel_size=(1, 1), stride=(1, 1), bias=False)\n      (bn1): BatchNorm2d(512, eps=1e-05, momentum=0.1, affine=True, track_running_stats=True)\n      (conv2): Conv2d(512, 512, kernel_size=(3, 3), stride=(1, 1), padding=(1, 1), bias=False)\n      (bn2): BatchNorm2d(512, eps=1e-05, momentum=0.1, affine=True, track_running_stats=True)\n      (conv3): Conv2d(512, 2048, kernel_size=(1, 1), stride=(1, 1), bias=False)\n      (bn3): BatchNorm2d(2048, eps=1e-05, momentum=0.1, affine=True, track_running_stats=True)\n      (relu): ReLU(inplace=True)\n    )\n    (2): Bottleneck(\n      (conv1): Conv2d(2048, 512, kernel_size=(1, 1), stride=(1, 1), bias=False)\n      (bn1): BatchNorm2d(512, eps=1e-05, momentum=0.1, affine=True, track_running_stats=True)\n      (conv2): Conv2d(512, 512, kernel_size=(3, 3), stride=(1, 1), padding=(1, 1), bias=False)\n      (bn2): BatchNorm2d(512, eps=1e-05, momentum=0.1, affine=True, track_running_stats=True)\n      (conv3): Conv2d(512, 2048, kernel_size=(1, 1), stride=(1, 1), bias=False)\n      (bn3): BatchNorm2d(2048, eps=1e-05, momentum=0.1, affine=True, track_running_stats=True)\n      (relu): ReLU(inplace=True)\n    )\n  )\n  (8): AdaptiveAvgPool2d(output_size=(1, 1))\n)"
     },
     "execution_count": 4,
     "metadata": {},
     "output_type": "execute_result"
    }
   ],
   "source": [
    "# Load a pre-trained ResNet model\n",
    "model = resnet50(pretrained=True).to(device)\n",
    "feature_extractor = nn.Sequential(*list(model.children())[:-1])  # Removing the final layer\n",
    "feature_extractor.eval()"
   ],
   "metadata": {
    "collapsed": false
   }
  },
  {
   "cell_type": "code",
   "execution_count": 61,
   "outputs": [],
   "source": [
    "normalize = torchvision.transforms.Normalize(mean=[0.485, 0.456, 0.406], std=[0.229, 0.224, 0.225])\n",
    "\n",
    "\n",
    "def get_features(image, feature_extractor):\n",
    "\t\"\"\" Convert image to tensor, normalize, and pass through the model \"\"\"\n",
    "\timage = normalize(image).unsqueeze(0).to(device)  # Add batch dimension\n",
    "\twith torch.no_grad():\n",
    "\t\tfeatures = feature_extractor(image)\n",
    "\treturn features.flatten()\n",
    "\n",
    "\n",
    "def cosine_similarity(feat1, feat2):\n",
    "\t\"\"\" Compute the cosine similarity between two feature vectors \"\"\"\n",
    "\treturn torch.nn.functional.cosine_similarity(feat1, feat2, dim=0)\n",
    "\n",
    "\n",
    "def cosine_similarities(features1, features2):\n",
    "\tnum_images = len(features1)\n",
    "\tsimilarities = []\n",
    "\tfor i in range(num_images):\n",
    "\t\tsim = cosine_similarity(features1[i].cpu(), features2[i].cpu())\n",
    "\t\tsimilarities.append(sim)\n",
    "\treturn similarities\n",
    "\n",
    "\n",
    "num_images = 1000\n",
    "fake_labels = torch.randint(0, conf.num_classes, (num_images,), device=device)\n",
    "fake_labels2 = torch.randint(0, conf.num_classes, (num_images,), device=device)\n",
    "generated_images1 = generate_images(netG, num_images, fake_labels)\n",
    "generated_images2 = generate_images(netG, num_images, fake_labels2)\n",
    "\n",
    "\n",
    "features1 = [get_features(image, feature_extractor) for image in generated_images1]\n",
    "features2 = [get_features(image, feature_extractor) for image in generated_images2]\n",
    "\n",
    "\n",
    "similarities = cosine_similarities(features1, features2)\n",
    "\n",
    "# print(f\"Similarity: {similarity.item()}\")"
   ],
   "metadata": {
    "collapsed": false
   }
  },
  {
   "cell_type": "code",
   "execution_count": null,
   "outputs": [],
   "source": [],
   "metadata": {
    "collapsed": false
   }
  },
  {
   "cell_type": "code",
   "execution_count": 62,
   "outputs": [
    {
     "data": {
      "text/plain": "<Figure size 1000x500 with 1 Axes>",
      "image/png": "[encoded data removed]"
     },
     "metadata": {},
     "output_type": "display_data"
    }
   ],
   "source": [
    "# Plot the mean SSIM values\n",
    "n_bins = 50  # You can change the number of bins based on how detailed you want the histogram to be\n",
    "plt.figure(figsize=(10, 5))\n",
    "plt.hist(similarities, bins=n_bins, alpha=0.75, color='blue')\n",
    "plt.title('Histogram of Cosine Similarities')\n",
    "plt.xlabel('Cosine Similarity')\n",
    "plt.ylabel('Frequency')\n",
    "\n",
    "plt.show()"
   ],
   "metadata": {
    "collapsed": false
   }
  },
  {
   "cell_type": "code",
   "execution_count": 59,
   "outputs": [],
   "source": [
    "def get_n_images_of_class(images, labels, class_x, n):\n",
    "\t\"\"\"\n",
    "    Fetches N images of a specified class X from the image and label arrays.\n",
    "    Returns:\n",
    "    - selected_images (numpy array): An array of N images belonging to class X.\n",
    "    \"\"\"\n",
    "\tindices_of_class_x = np.where(labels == class_x)[0]\n",
    "\t# Check if there are enough samples of class_x\n",
    "\tif len(indices_of_class_x) < n:\n",
    "\t\tprint(\n",
    "\t\t\tf\"Warning: Only {len(indices_of_class_x)} images found for class {class_x}, which is less than {n} requested.\")\n",
    "\t\tn = len(indices_of_class_x)  # Adjust n to the maximum available if less than requested\n",
    "\t# Randomly select n indices from those that belong to class_x\n",
    "\tselected_indices = np.random.choice(indices_of_class_x, n, replace=False)\n",
    "\t# Fetch the images corresponding to these indices\n",
    "\tselected_images = images[selected_indices]\n",
    "\treturn selected_images\n",
    "\n"
   ],
   "metadata": {
    "collapsed": false
   }
  },
  {
   "cell_type": "code",
   "execution_count": 63,
   "outputs": [
    {
     "name": "stdout",
     "output_type": "stream",
     "text": [
      "Files already downloaded and verified\n"
     ]
    }
   ],
   "source": [
    "transform = transforms.Compose([\n",
    "\ttransforms.Resize((conf.img_size, conf.img_size)),  # Resize the image\n",
    "\ttransforms.ToTensor(),  # Convert the image to a tensor\n",
    "\ttransforms.Normalize((0.5, 0.5, 0.5), (0.5, 0.5, 0.5))  # Normalize the tensor\n",
    "])\n",
    "# downloading the CIFAR10 dataset\n",
    "train_set = torchvision.datasets.CIFAR10(root='./data', train=True, download=True, transform=transform)\n",
    "train_loader = torch.utils.data.DataLoader(train_set, batch_size=conf.batch_size, shuffle=True)\n",
    "# getting images from the train dataset\n",
    "real_images, real_labels = get_images_labels(num_images * 2, train_loader)\n",
    "real_features1 = [get_features(image, feature_extractor) for image in real_images[:num_images]]\n",
    "real_features2 = [get_features(image, feature_extractor) for image in real_images[num_images:]]"
   ],
   "metadata": {
    "collapsed": false
   }
  },
  {
   "cell_type": "code",
   "execution_count": 64,
   "outputs": [],
   "source": [
    "similarities_CIFAR10 = cosine_similarities(real_features1, real_features2)"
   ],
   "metadata": {
    "collapsed": false
   }
  },
  {
   "cell_type": "code",
   "execution_count": 65,
   "outputs": [
    {
     "data": {
      "text/plain": "<Figure size 1000x500 with 1 Axes>",
      "image/png": "[encoded data removed]"
     },
     "metadata": {},
     "output_type": "display_data"
    }
   ],
   "source": [
    "n_bins = 50  # You can change the number of bins based on how detailed you want the histogram to be\n",
    "plt.figure(figsize=(10, 5))\n",
    "plt.hist(similarities_CIFAR10, bins=n_bins, alpha=0.75, color='red')\n",
    "plt.title('Histogram of Cosine Similarities')\n",
    "plt.xlabel('Cosine Similarity')\n",
    "plt.ylabel('Frequency')\n",
    "\n",
    "plt.show()"
   ],
   "metadata": {
    "collapsed": false
   }
  },
  {
   "cell_type": "code",
   "execution_count": 53,
   "outputs": [
    {
     "data": {
      "text/plain": "<Figure size 1000x500 with 1 Axes>",
      "image/png": "[encoded data removed]"
     },
     "metadata": {},
     "output_type": "display_data"
    }
   ],
   "source": [
    "num_classes = 10\n",
    "num_examples_per_class = 100\n",
    "\n",
    "mean_sims = []  # saving SSIM scores for each class\n",
    "\n",
    "for class_idx in range(num_classes):  # iterating over each class\n",
    "\t# Generate two sets of images for each class\n",
    "\tnoise1 = torch.randn(num_examples_per_class, 100, device=device)\n",
    "\tnoise2 = torch.randn(num_examples_per_class, 100, device=device)\n",
    "\tlabels = torch.full((num_examples_per_class,), class_idx, device=device)\n",
    "\tlabels_oh = torch.nn.functional.one_hot(labels, num_classes=num_classes).float()\n",
    "\n",
    "\timages1 = netG(noise1, labels_oh).detach()\n",
    "\timages2 = netG(noise2, labels_oh).detach()\n",
    "\tfeatures1 = [get_features(image, feature_extractor) for image in images1]\n",
    "\tfeatures2 = [get_features(image, feature_extractor) for image in images2]\n",
    "\n",
    "\tcurrent_ssim = cosine_similarities(features1, features2)\n",
    "\n",
    "\tmean_sim = np.mean(current_ssim)\n",
    "\tmean_sims.append(mean_sim)\n",
    "\n",
    "\n",
    "# Plot the mean SSIM values\n",
    "plt.figure(figsize=(10, 5))\n",
    "plt.bar(range(num_classes), mean_sims, color='blue')\n",
    "plt.xlabel('Class Index')\n",
    "plt.ylabel('Mean SIM')\n",
    "plt.title('Mean SSIM for Each Class')\n",
    "plt.show()"
   ],
   "metadata": {
    "collapsed": false
   }
  },
  {
   "cell_type": "code",
   "execution_count": 66,
   "outputs": [
    {
     "data": {
      "text/plain": "<Figure size 1000x500 with 1 Axes>",
      "image/png": "[encoded data removed]"
     },
     "metadata": {},
     "output_type": "display_data"
    }
   ],
   "source": [
    "num_classes = 10\n",
    "num_examples_per_class = 100\n",
    "\n",
    "mean_sims_CIFAR10 = []  # saving SSIM scores for each class\n",
    "\n",
    "for class_idx in range(num_classes):  # iterating over each class\n",
    "\t# Generate two sets of images for each class\n",
    "\n",
    "\treal_images, real_labels = get_images_labels(num_examples_per_class * 2, train_loader)\n",
    "\timages1 = real_images[:num_examples_per_class]\n",
    "\timages2 = real_images[num_examples_per_class:]\n",
    "\tfeatures1 = [get_features(image, feature_extractor) for image in images1]\n",
    "\tfeatures2 = [get_features(image, feature_extractor) for image in images2]\n",
    "\n",
    "\tcurrent_ssim = cosine_similarities(features1, features2)\n",
    "\n",
    "\tmean_sim = np.mean(current_ssim)\n",
    "\tmean_sims_CIFAR10.append(mean_sim)\n",
    "# print(f\"Class {class_idx} Mean SSIM: {mean_ssim}\")\n",
    "\n",
    "# Plot the mean SSIM values\n",
    "plt.figure(figsize=(10, 5))\n",
    "plt.bar(range(num_classes), mean_sims_CIFAR10, color='blue')\n",
    "plt.xlabel('Class Index')\n",
    "plt.ylabel('Mean SIM')\n",
    "plt.title('Mean SSIM for Each Class')\n",
    "plt.show()"
   ],
   "metadata": {
    "collapsed": false
   }
  },
  {
   "cell_type": "code",
   "execution_count": null,
   "outputs": [],
   "source": [],
   "metadata": {
    "collapsed": false
   }
  },
  {
   "cell_type": "code",
   "execution_count": null,
   "outputs": [],
   "source": [],
   "metadata": {
    "collapsed": false
   }
  },
  {
   "cell_type": "markdown",
   "source": [
    "Making sure everything works well"
   ],
   "metadata": {
    "collapsed": false
   }
  },
  {
   "cell_type": "markdown",
   "source": [
    "Defining functions required for the SSIM score calculations"
   ],
   "metadata": {
    "collapsed": false
   }
  },
  {
   "cell_type": "code",
   "execution_count": null,
   "outputs": [],
   "source": [
    "def rgb_to_grayscale_numpy(image):\n",
    "\t\"\"\"\n",
    "\tConvert an RGB image to a grayscale image using the luminosity method.\n",
    "\tParameters:\n",
    "\t\timage (numpy.ndarray): The RGB image in CHW format.\n",
    "\tReturns:\n",
    "\t\tnumpy.ndarray: The grayscale image in 1HW format (1 channel, Height, Width).\n",
    "\t\"\"\"\n",
    "\tif image.shape[0] == 3:  # Check if the input image has 3 channels (RGB)\n",
    "\t\timage = image.transpose(1, 2, 0)  # Convert to HWC format for easier processing\n",
    "\t# Apply the luminosity method to calculate grayscale values\n",
    "\tgrayscale = 0.2989 * image[:, :, 0] + 0.5870 * image[:, :, 1] + 0.1140 * image[:, :, 2]\n",
    "\treturn grayscale[np.newaxis, :, :]  # Add channel dimension back for consistency\n",
    "\n",
    "\n",
    "def calculate_ssim(image1, image2):\n",
    "\t\"\"\"\n",
    "    Calculate the Structural Similarity Index Measure (SSIM) between two images.\n",
    "    Parameters:\n",
    "        image1, image2 (numpy.ndarray or torch.Tensor): The input images.\n",
    "    Returns:\n",
    "        float: The SSIM index between the two input images.\n",
    "    \"\"\"\n",
    "\t# Convert PyTorch tensors to numpy arrays if necessary\n",
    "\tif torch.is_tensor(image1):\n",
    "\t\timage1 = image1.cpu().numpy()  # CHW to HWC\n",
    "\tif torch.is_tensor(image2):\n",
    "\t\timage2 = image2.cpu().numpy()  # CHW to HWC\n",
    "\t# Convert images to grayscale\n",
    "\timage1 = rgb_to_grayscale_numpy(image1)[0]\n",
    "\timage2 = rgb_to_grayscale_numpy(image2)[0]\n",
    "\t# Normalize images to ensure they are compared on the same scale\n",
    "\timage1 = (image1 - image1.min()) / (image1.max() - image1.min())\n",
    "\timage2 = (image2 - image2.min()) / (image2.max() - image2.min())\n",
    "\t# Calculate and return the SSIM\n",
    "\tssim_value = ssim(image1, image2, multichannel=False, data_range=1)\n",
    "\treturn ssim_value"
   ],
   "metadata": {
    "collapsed": false
   }
  },
  {
   "cell_type": "markdown",
   "source": [
    "Calculating the average SSIM score over all the images without any classes taken into account\n",
    "\n",
    "AC-GAN with the structure from the paper"
   ],
   "metadata": {
    "collapsed": false
   }
  },
  {
   "cell_type": "code",
   "execution_count": null,
   "outputs": [],
   "source": [
    "num_images_acc = 1000  # number of images\n",
    "noise = torch.randn(num_images_acc, 100, device=device)  #noise for images\n",
    "# creating labels (required only for AC-GAM)\n",
    "fake_labels = torch.randint(0, conf.num_classes, (num_images_acc,), device=device)\n",
    "fake_labels_oh = torch.nn.functional.one_hot(fake_labels, num_classes=10)  # one-hot representation\n",
    "# generating images - 1st pack\n",
    "fake_images = netG(noise, fake_labels_oh).detach()\n",
    "# Now repeating the same procedure for the 2nd pack of the images\n",
    "noise2 = torch.randn(num_images_acc, 100, device=device)\n",
    "fake_labels2 = fake_labels\n",
    "fake_labels_oh2 = torch.nn.functional.one_hot(fake_labels, num_classes=10)\n",
    "# generating images - 1st pack\n",
    "fake_images2 = netG(noise2, fake_labels_oh2).detach()\n",
    "# Calculate SSIM for each pair\n",
    "ssim_scores = []\n",
    "for gen_img, gen_img2 in zip(fake_images, fake_images2):  # 2 packs pairwise\n",
    "\tcurrent_ssim = calculate_ssim(gen_img, gen_img2)\n",
    "\tssim_scores.append(current_ssim)\n",
    "\n",
    "average_ssim_ACGAN = np.mean(ssim_scores)\n",
    "print(f\"Average SSIM (AC-GAN): {average_ssim_ACGAN}\")"
   ],
   "metadata": {
    "collapsed": false
   }
  },
  {
   "cell_type": "markdown",
   "source": [
    "Doing the same for AC-GAN with a simple structure"
   ],
   "metadata": {
    "collapsed": false
   }
  },
  {
   "cell_type": "code",
   "execution_count": null,
   "outputs": [],
   "source": [
    "netGs = Generator_simple().to(device)\n",
    "netDs = Discriminator_simple().to(device)\n",
    "# Load the weights back into the models\n",
    "netGs.load_state_dict(torch.load('netG_simple.pth'))\n",
    "netDs.load_state_dict(torch.load('netD_simple.pth'))\n",
    "# Make sure to call eval() if you're in inference mode\n",
    "netGs.eval()\n",
    "netDs.eval()"
   ],
   "metadata": {
    "collapsed": false
   }
  },
  {
   "cell_type": "code",
   "execution_count": null,
   "outputs": [],
   "source": [
    "num_images_acc = 1000  # number of images\n",
    "noise = torch.randn(num_images_acc, 100, device=device)  #noise for images\n",
    "# creating labels (required only for AC-GAM)\n",
    "fake_labels = torch.randint(0, conf.num_classes, (num_images_acc,), device=device)\n",
    "fake_labels_oh = torch.nn.functional.one_hot(fake_labels, num_classes=10)  # one-hot representation\n",
    "# generating images - 1st pack\n",
    "fake_images = netGs(noise, fake_labels_oh).detach()\n",
    "# Now repeating the same procedure for the 2nd pack of the images\n",
    "noise2 = torch.randn(num_images_acc, 100, device=device)\n",
    "fake_labels2 = fake_labels\n",
    "fake_labels_oh2 = torch.nn.functional.one_hot(fake_labels, num_classes=10)\n",
    "# generating images - 1st pack\n",
    "fake_images2 = netGs(noise2, fake_labels_oh2).detach()\n",
    "# Calculate SSIM for each pair\n",
    "ssim_scores = []\n",
    "for gen_img, gen_img2 in zip(fake_images, fake_images2):  # 2 packs pairwise\n",
    "\tcurrent_ssim = calculate_ssim(gen_img, gen_img2)\n",
    "\tssim_scores.append(current_ssim)\n",
    "\n",
    "average_ssim_ACGAN_simple = np.mean(ssim_scores)\n",
    "print(f\"Average SSIM (AC-GAN): {average_ssim_ACGAN_simple}\")"
   ],
   "metadata": {
    "collapsed": false
   }
  },
  {
   "cell_type": "markdown",
   "source": [
    "Calculating SSIM score for pure CIFAR10 dataset (not generated images) as a reference"
   ],
   "metadata": {
    "collapsed": false
   }
  },
  {
   "cell_type": "code",
   "execution_count": null,
   "outputs": [],
   "source": [
    "transform = transforms.Compose([\n",
    "\ttransforms.Resize((conf.img_size, conf.img_size)),  # Resize the image\n",
    "\ttransforms.ToTensor(),  # Convert the image to a tensor\n",
    "\ttransforms.Normalize((0.5, 0.5, 0.5), (0.5, 0.5, 0.5))  # Normalize the tensor\n",
    "])\n",
    "# downloading the CIFAR10 dataset\n",
    "train_set = torchvision.datasets.CIFAR10(root='./data', train=True, download=True, transform=transform)\n",
    "train_loader = torch.utils.data.DataLoader(train_set, batch_size=conf.batch_size, shuffle=True)\n",
    "# getting images from the train dataset\n",
    "real_images1, real_labels1 = get_images_labels(num_images_acc, train_loader)\n",
    "real_images2, real_labels2 = get_images_labels(num_images_acc, train_loader)\n",
    "# calculating the score\n",
    "ssim_scores = []\n",
    "for gen_img, gen_img2 in zip(real_images1, real_images2):  # 2 packs pairwise\n",
    "\tcurrent_ssim = calculate_ssim(gen_img, gen_img2)\n",
    "\tssim_scores.append(current_ssim)\n",
    "\n",
    "average_ssim_CIFAR10 = np.mean(ssim_scores)\n",
    "print(f\"average_ssim_CIFAR10: {average_ssim_CIFAR10}\")"
   ],
   "metadata": {
    "collapsed": false
   }
  },
  {
   "cell_type": "code",
   "execution_count": null,
   "outputs": [],
   "source": [
    "\n",
    "# Update last model name accordingly !!!!!!!!!!!!\n",
    "model_names = ['CIFAR10', 'GAN Simple', 'GAN Advanced', 'W-GAN Simple', 'W-GAN Advanced', 'AC-GAN simple',\n",
    "               'AC-GAN Advanced']\n",
    "avg_ssim_scores = [0.0343, 0, 0, 0, 0, 0.06940723189351997, 0.0998]  # actual average SSIM scores\n",
    "\n",
    "# Choose a color palette for the bars\n",
    "colors = plt.cm.viridis_r(np.linspace(0, 0.5, len(model_names)))\n",
    "\n",
    "# Set up the bar plot\n",
    "plt.figure(figsize=(10, 6))\n",
    "bars = plt.bar(model_names, avg_ssim_scores, color=colors)\n",
    "\n",
    "# Add the SSIM scores on top of the bars\n",
    "for bar in bars:\n",
    "\tyval = bar.get_height()\n",
    "\tplt.text(bar.get_x() + bar.get_width() / 2, yval + 0.01, round(yval, 2), ha='center', va='bottom', color='black',\n",
    "\t         weight='bold')\n",
    "\n",
    "# Set the title and labels\n",
    "plt.title('Average SSIM Scores by Model', fontsize=16, fontweight='bold')\n",
    "plt.xlabel('Model', fontsize=14)\n",
    "plt.ylabel('Average SSIM Score', fontsize=14)\n",
    "\n",
    "# Add a grid for better readability\n",
    "plt.grid(axis='y', linestyle='--', alpha=0.7)\n",
    "\n",
    "# Set the ylim to better show the text\n",
    "plt.ylim(0, max(avg_ssim_scores) + 0.1)  # Adjust based on your scores\n",
    "\n",
    "# Remove the top and right spines for aesthetics\n",
    "plt.gca().spines['right'].set_visible(False)\n",
    "plt.gca().spines['top'].set_visible(False)\n",
    "\n",
    "# Improve layout and display the plot\n",
    "plt.tight_layout()\n",
    "plt.show()"
   ],
   "metadata": {
    "collapsed": false
   }
  },
  {
   "cell_type": "markdown",
   "source": [
    "Now let's calculate specific to AC-GAN class-dependent SSIM scores"
   ],
   "metadata": {
    "collapsed": false
   }
  },
  {
   "cell_type": "code",
   "execution_count": null,
   "outputs": [],
   "source": [
    "num_classes = 10\n",
    "num_examples_per_class = 100\n",
    "mean = 1\n",
    "mean_ssims = []  # saving SSIM scores for each class\n",
    "\n",
    "for class_idx in range(num_classes):  # iterating over each class\n",
    "\t# Generate two sets of images for each class\n",
    "\tnoise1 = torch.randn(num_examples_per_class, 100, device=device)\n",
    "\tnoise2 = torch.randn(num_examples_per_class, 100, device=device)\n",
    "\tlabels = torch.full((num_examples_per_class,), class_idx, device=device)\n",
    "\tlabels_oh = torch.nn.functional.one_hot(labels, num_classes=num_classes).float()\n",
    "\n",
    "\timages1 = netG(noise1, labels_oh).detach()\n",
    "\timages2 = netG(noise2, labels_oh).detach()\n",
    "\n",
    "\tssims = []\n",
    "\tfor img1, img2 in zip(images1, images2):\n",
    "\t\tcurrent_ssim = calculate_ssim(img1, img2)\n",
    "\t\tssims.append(current_ssim)\n",
    "\n",
    "\tmean_ssim = np.mean(ssims)\n",
    "\tmean_ssims.append(mean_ssim)\n",
    "# print(f\"Class {class_idx} Mean SSIM: {mean_ssim}\")\n",
    "mean = np.mean(mean_ssims)\n",
    "\n",
    "# Plot the mean SSIM values\n",
    "plt.figure(figsize=(10, 5))\n",
    "plt.bar(range(num_classes), mean_ssims, color='blue')\n",
    "plt.xlabel('Class Index')\n",
    "plt.ylabel('Mean SSIM')\n",
    "plt.title('Mean SSIM for Each Class')\n",
    "plt.show()"
   ],
   "metadata": {
    "collapsed": false
   }
  },
  {
   "cell_type": "markdown",
   "source": [],
   "metadata": {
    "collapsed": false
   }
  },
  {
   "cell_type": "markdown",
   "source": [
    "As a reference, let's calculate SSIM scores for the original dataset"
   ],
   "metadata": {
    "collapsed": false
   }
  },
  {
   "cell_type": "code",
   "execution_count": null,
   "outputs": [],
   "source": [],
   "metadata": {
    "collapsed": false
   }
  },
  {
   "cell_type": "code",
   "execution_count": null,
   "outputs": [],
   "source": [
    "num_classes = 10\n",
    "num_examples_per_class = 100\n",
    "\n",
    "mean_ssims_train = []\n",
    "for class_idx in range(num_classes):  # iterating over all image classes\n",
    "\t# getting images of the class we need at this cicle\n",
    "\timages = get_n_images_of_class(images_train, labels_train, class_idx, num_examples_per_class * 2)\n",
    "\timages1 = images[:num_examples_per_class]\n",
    "\timages2 = images[num_examples_per_class:]\n",
    "\n",
    "\tssims = []\n",
    "\tfor img1, img2 in zip(images1, images2):\n",
    "\t\tcurrent_ssim = calculate_ssim(img1, img2)\n",
    "\t\tssims.append(current_ssim)\n",
    "\n",
    "\tmean_ssim = np.mean(ssims)\n",
    "\tmean_ssims_train.append(mean_ssim)\n",
    "# print(f\"Class {class_idx} Mean SSIM: {mean_ssim}\")\n",
    "mean = np.mean(mean_ssims_train)\n",
    "maxv = np.max(mean_ssims_train)\n",
    "# Optional: Plot the mean SSIM values\n",
    "plt.figure(figsize=(10, 5))\n",
    "plt.bar(range(num_classes), mean_ssims_train, color='blue')\n",
    "plt.xlabel('Class Index')\n",
    "plt.ylabel('Mean SSIM')\n",
    "plt.title('Mean SSIM for Each Class')\n",
    "plt.show()"
   ],
   "metadata": {
    "collapsed": false
   }
  },
  {
   "cell_type": "markdown",
   "source": [
    "Plotting and interpreting results of SSIM scores fore AC-GAN and CIFAR10 dataset"
   ],
   "metadata": {
    "collapsed": false
   }
  },
  {
   "cell_type": "code",
   "execution_count": null,
   "outputs": [],
   "source": [
    "fig, ax = plt.subplots()\n",
    "\n",
    "# calculating mean values and std errors\n",
    "mean_train = np.mean(mean_ssims_train)\n",
    "std_train = np.std(mean_ssims_train)\n",
    "mean_samples = np.mean(mean_ssims)\n",
    "std_samples = np.std(mean_ssims)\n",
    "\n",
    "# Create scatter plot\n",
    "for i in range(len(mean_ssims_train)):\n",
    "\t# each class has its own number and color\n",
    "\tax.scatter(mean_ssims_train[i], mean_ssims[i], label=f'{classes[i]}', s=70)\n",
    "\tax.text(mean_ssims_train[i] + 0.001, mean_ssims[i] + 0.001, f'{i}', fontsize=10)\n",
    "\n",
    "# Plot the line of equality\n",
    "plt.plot([0, 0.2], [0, 0.2], 'b-', label='Equality')\n",
    "# Plot the maximum SSIM value line\n",
    "plt.axhline(y=max(mean_ssims_train), color='r', linestyle='--', label='Max Training SSIM')\n",
    "\n",
    "# Annotations for mean and standard deviation\n",
    "plt.text(0.003, 0.18, f'Mean Training: {mean_train:.2f}\\nStd Training: {std_train:.2f}', color='black')\n",
    "plt.text(0.005, 0.15, f'Mean Samples: {mean_samples:.2f}\\nStd Samples: {std_samples:.2f}', color='black')\n",
    "# Labels and title\n",
    "plt.xlabel('training data SSIM value')\n",
    "plt.ylabel('sample SSIM value')\n",
    "plt.title('Comparison of the mean MS-SSIM scores')\n",
    "plt.xlim(0.0, 0.2)\n",
    "plt.ylim(0.0, 0.2)\n",
    "# Legend\n",
    "plt.legend()\n",
    "# Show the plot\n",
    "plt.show()"
   ],
   "metadata": {
    "collapsed": false
   }
  }
 ],
 "metadata": {
  "kernelspec": {
   "display_name": "Python 3",
   "language": "python",
   "name": "python3"
  },
  "language_info": {
   "codemirror_mode": {
    "name": "ipython",
    "version": 2
   },
   "file_extension": ".py",
   "mimetype": "text/x-python",
   "name": "python",
   "nbconvert_exporter": "python",
   "pygments_lexer": "ipython2",
   "version": "2.7.6"
  }
 },
 "nbformat": 4,
 "nbformat_minor": 0
}
