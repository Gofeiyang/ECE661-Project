{
 "cells": [
  {
   "cell_type": "code",
   "execution_count": 4,
   "metadata": {
    "collapsed": true
   },
   "outputs": [],
   "source": [
    "#plot the Losses vs epochs\n",
    "import torch\n",
    "import torch.nn.functional as F\n",
    "from torchvision.models import inception_v3\n",
    "from torchvision.transforms import functional as TF\n",
    "import seaborn as sns\n",
    "import pandas as pd\n",
    "import numpy as np\n",
    "from AC_GAN.models_and_tools.ACGAN_paper import *\n",
    "from AC_GAN.models_and_tools.functions import *\n",
    "\n",
    "device = 'cuda'"
   ]
  },
  {
   "cell_type": "code",
   "execution_count": 5,
   "outputs": [
    {
     "ename": "FileNotFoundError",
     "evalue": "[Errno 2] No such file or directory: 'netG200.pth'",
     "output_type": "error",
     "traceback": [
      "\u001B[1;31m---------------------------------------------------------------------------\u001B[0m",
      "\u001B[1;31mFileNotFoundError\u001B[0m                         Traceback (most recent call last)",
      "Cell \u001B[1;32mIn[5], line 4\u001B[0m\n\u001B[0;32m      2\u001B[0m netD \u001B[38;5;241m=\u001B[39m Discriminator(conf)\u001B[38;5;241m.\u001B[39mto(device)\n\u001B[0;32m      3\u001B[0m \u001B[38;5;66;03m# Load the weights back into the models\u001B[39;00m\n\u001B[1;32m----> 4\u001B[0m netG\u001B[38;5;241m.\u001B[39mload_state_dict(\u001B[43mtorch\u001B[49m\u001B[38;5;241;43m.\u001B[39;49m\u001B[43mload\u001B[49m\u001B[43m(\u001B[49m\u001B[38;5;124;43m'\u001B[39;49m\u001B[38;5;124;43mnetG200.pth\u001B[39;49m\u001B[38;5;124;43m'\u001B[39;49m\u001B[43m)\u001B[49m)\n\u001B[0;32m      5\u001B[0m netD\u001B[38;5;241m.\u001B[39mload_state_dict(torch\u001B[38;5;241m.\u001B[39mload(\u001B[38;5;124m'\u001B[39m\u001B[38;5;124mnetD200.pth\u001B[39m\u001B[38;5;124m'\u001B[39m))\n\u001B[0;32m      6\u001B[0m \u001B[38;5;66;03m# Make sure to call eval() if you're in inference mode\u001B[39;00m\n",
      "File \u001B[1;32m~\\AppData\\Local\\Programs\\Python\\Python311\\Lib\\site-packages\\torch\\serialization.py:986\u001B[0m, in \u001B[0;36mload\u001B[1;34m(f, map_location, pickle_module, weights_only, mmap, **pickle_load_args)\u001B[0m\n\u001B[0;32m    983\u001B[0m \u001B[38;5;28;01mif\u001B[39;00m \u001B[38;5;124m'\u001B[39m\u001B[38;5;124mencoding\u001B[39m\u001B[38;5;124m'\u001B[39m \u001B[38;5;129;01mnot\u001B[39;00m \u001B[38;5;129;01min\u001B[39;00m pickle_load_args\u001B[38;5;241m.\u001B[39mkeys():\n\u001B[0;32m    984\u001B[0m     pickle_load_args[\u001B[38;5;124m'\u001B[39m\u001B[38;5;124mencoding\u001B[39m\u001B[38;5;124m'\u001B[39m] \u001B[38;5;241m=\u001B[39m \u001B[38;5;124m'\u001B[39m\u001B[38;5;124mutf-8\u001B[39m\u001B[38;5;124m'\u001B[39m\n\u001B[1;32m--> 986\u001B[0m \u001B[38;5;28;01mwith\u001B[39;00m \u001B[43m_open_file_like\u001B[49m\u001B[43m(\u001B[49m\u001B[43mf\u001B[49m\u001B[43m,\u001B[49m\u001B[43m \u001B[49m\u001B[38;5;124;43m'\u001B[39;49m\u001B[38;5;124;43mrb\u001B[39;49m\u001B[38;5;124;43m'\u001B[39;49m\u001B[43m)\u001B[49m \u001B[38;5;28;01mas\u001B[39;00m opened_file:\n\u001B[0;32m    987\u001B[0m     \u001B[38;5;28;01mif\u001B[39;00m _is_zipfile(opened_file):\n\u001B[0;32m    988\u001B[0m         \u001B[38;5;66;03m# The zipfile reader is going to advance the current file position.\u001B[39;00m\n\u001B[0;32m    989\u001B[0m         \u001B[38;5;66;03m# If we want to actually tail call to torch.jit.load, we need to\u001B[39;00m\n\u001B[0;32m    990\u001B[0m         \u001B[38;5;66;03m# reset back to the original position.\u001B[39;00m\n\u001B[0;32m    991\u001B[0m         orig_position \u001B[38;5;241m=\u001B[39m opened_file\u001B[38;5;241m.\u001B[39mtell()\n",
      "File \u001B[1;32m~\\AppData\\Local\\Programs\\Python\\Python311\\Lib\\site-packages\\torch\\serialization.py:435\u001B[0m, in \u001B[0;36m_open_file_like\u001B[1;34m(name_or_buffer, mode)\u001B[0m\n\u001B[0;32m    433\u001B[0m \u001B[38;5;28;01mdef\u001B[39;00m \u001B[38;5;21m_open_file_like\u001B[39m(name_or_buffer, mode):\n\u001B[0;32m    434\u001B[0m     \u001B[38;5;28;01mif\u001B[39;00m _is_path(name_or_buffer):\n\u001B[1;32m--> 435\u001B[0m         \u001B[38;5;28;01mreturn\u001B[39;00m \u001B[43m_open_file\u001B[49m\u001B[43m(\u001B[49m\u001B[43mname_or_buffer\u001B[49m\u001B[43m,\u001B[49m\u001B[43m \u001B[49m\u001B[43mmode\u001B[49m\u001B[43m)\u001B[49m\n\u001B[0;32m    436\u001B[0m     \u001B[38;5;28;01melse\u001B[39;00m:\n\u001B[0;32m    437\u001B[0m         \u001B[38;5;28;01mif\u001B[39;00m \u001B[38;5;124m'\u001B[39m\u001B[38;5;124mw\u001B[39m\u001B[38;5;124m'\u001B[39m \u001B[38;5;129;01min\u001B[39;00m mode:\n",
      "File \u001B[1;32m~\\AppData\\Local\\Programs\\Python\\Python311\\Lib\\site-packages\\torch\\serialization.py:416\u001B[0m, in \u001B[0;36m_open_file.__init__\u001B[1;34m(self, name, mode)\u001B[0m\n\u001B[0;32m    415\u001B[0m \u001B[38;5;28;01mdef\u001B[39;00m \u001B[38;5;21m__init__\u001B[39m(\u001B[38;5;28mself\u001B[39m, name, mode):\n\u001B[1;32m--> 416\u001B[0m     \u001B[38;5;28msuper\u001B[39m()\u001B[38;5;241m.\u001B[39m\u001B[38;5;21m__init__\u001B[39m(\u001B[38;5;28;43mopen\u001B[39;49m\u001B[43m(\u001B[49m\u001B[43mname\u001B[49m\u001B[43m,\u001B[49m\u001B[43m \u001B[49m\u001B[43mmode\u001B[49m\u001B[43m)\u001B[49m)\n",
      "\u001B[1;31mFileNotFoundError\u001B[0m: [Errno 2] No such file or directory: 'netG200.pth'"
     ]
    }
   ],
   "source": [],
   "metadata": {
    "collapsed": false
   }
  },
  {
   "cell_type": "code",
   "execution_count": null,
   "outputs": [],
   "source": [],
   "metadata": {
    "collapsed": false
   }
  },
  {
   "cell_type": "code",
   "execution_count": null,
   "outputs": [],
   "source": [
    "\n",
    "\n",
    "def inception_score(images, cuda=True, batch_size=32, resize=False, splits=10):\n",
    "    \"\"\"计算 Inception Score.\n",
    "    参数:\n",
    "    - images: PyTorch tensor, 大小 [N, 3, H, W]\n",
    "    - cuda: 是否使用 GPU\n",
    "    - batch_size: 处理图片的批次大小\n",
    "    - resize: 是否调整图片为 (299, 299)\n",
    "    - splits: 计算分数时数据集分割的数量\n",
    "    \"\"\"\n",
    "    N = len(images)\n",
    "    assert batch_size > 0\n",
    "    assert N > batch_size\n",
    "\n",
    "    # 加载 Inception 模型\n",
    "    inception_model = inception_v3(pretrained=True, transform_input=False)\n",
    "    inception_model.eval()\n",
    "    if cuda:\n",
    "        inception_model.cuda()\n",
    "\n",
    "    def get_pred(x):\n",
    "        if resize:\n",
    "            x = F.interpolate(x, size=(299, 299), mode='bilinear', align_corners=False)\n",
    "        with torch.no_grad():\n",
    "            x = inception_model(x)\n",
    "        return F.softmax(x, dim=1).data.cpu().numpy()\n",
    "\n",
    "    # 计算预测和边缘分布\n",
    "    preds = np.zeros((N, 1000))\n",
    "\n",
    "    for i in range(0, N, batch_size):\n",
    "        batch = images[i:i + batch_size]\n",
    "        if cuda:\n",
    "            batch = batch.cuda()\n",
    "        batch_pred = get_pred(batch)\n",
    "        preds[i:i + batch_size] = batch_pred\n",
    "\n",
    "    # 分割数据，计算 Inception Score\n",
    "    split_scores = []\n",
    "\n",
    "    for k in range(splits):\n",
    "        part = preds[k * (N // splits): (k + 1) * (N // splits), :]\n",
    "        p_y = np.expand_dims(np.mean(part, axis=0), 0)\n",
    "        kl_div = part * (np.log(part + 1e-10) - np.log(p_y + 1e-10))\n",
    "        kl_div = np.mean(np.sum(kl_div, axis=1))\n",
    "        split_scores.append(np.exp(kl_div))\n",
    "\n",
    "    return split_scores\n",
    "\n",
    "# 用法示例\n",
    "# 假设 `generated_images` 是你的生成图片数据, 形状 [N, 3, H, W]\n",
    "# is_mean, is_std = inception_score(generated_images, cuda=True, resize=True, batch_size=32)"
   ],
   "metadata": {
    "collapsed": false
   }
  },
  {
   "cell_type": "code",
   "execution_count": null,
   "outputs": [],
   "source": [
    "netG = Generator(conf).to(device)\n",
    "netD = Discriminator(conf).to(device)\n",
    "# Load the weights back into the models\n",
    "netG.load_state_dict(torch.load('netG200.pth'))\n",
    "netD.load_state_dict(torch.load('netD200.pth'))\n",
    "# Make sure to call eval() if you're in inference mode\n",
    "netG.eval()\n",
    "netD.eval()\n",
    "netGp = GeneratorP(conf).to(device)\n",
    "netDp = DiscriminatorP(conf).to(device)\n",
    "# Load the weights back into the models\n",
    "netGp.load_state_dict(torch.load('netGr.pth'))\n",
    "netDp.load_state_dict(torch.load('netDr.pth'))\n",
    "# Make sure to call eval() if you're in inference mode\n",
    "netGp.eval()\n",
    "netDp.eval()"
   ],
   "metadata": {
    "collapsed": false
   }
  },
  {
   "cell_type": "code",
   "execution_count": null,
   "outputs": [],
   "source": [
    "\n",
    "\n",
    "num_images = 500\n",
    "fake_labels = torch.randint(0, conf.num_classes, (num_images,), device=device)\n",
    "fake_images = generate_images(netG, num_images, fake_labels)"
   ],
   "metadata": {
    "collapsed": false
   }
  },
  {
   "cell_type": "code",
   "execution_count": null,
   "outputs": [],
   "source": [
    "score1 = inception_score(fake_images, cuda=True, resize=True, batch_size=10)\n",
    "# print(\"Inception Score:\", is_mean)"
   ],
   "metadata": {
    "collapsed": false
   }
  },
  {
   "cell_type": "code",
   "execution_count": null,
   "outputs": [],
   "source": [
    "num_images = 500\n",
    "fake_labels = torch.randint(0, conf.num_classes, (num_images,), device=device)\n",
    "fake_imagesP = generate_images(netGp, num_images, fake_labels)"
   ],
   "metadata": {
    "collapsed": false
   }
  },
  {
   "cell_type": "code",
   "execution_count": null,
   "outputs": [],
   "source": [
    "score2 = inception_score(fake_imagesP, cuda=True, resize=True, batch_size=10)\n",
    "# print(\"Inception Score:\", is_mean)"
   ],
   "metadata": {
    "collapsed": false
   }
  },
  {
   "cell_type": "code",
   "execution_count": null,
   "outputs": [],
   "source": [
    "\n",
    "# Create a DataFrame\n",
    "df = pd.DataFrame({'AC-GAN': score2, 'AC-GAN (mod)': score1})\n",
    "# Melt the DataFrame to long-format\n",
    "df_long = pd.melt(df, var_name='Model', value_name='Inception Score')\n",
    "# Create a box plot\n",
    "sns.boxplot(x='Model', y='Inception Score', data=df_long)\n",
    "# Optional: Add a title\n",
    "plt.title('Inception Score of GAN models')\n",
    "\n",
    "# Show the plot\n",
    "plt.show()"
   ],
   "metadata": {
    "collapsed": false
   }
  }
 ],
 "metadata": {
  "kernelspec": {
   "display_name": "Python 3",
   "language": "python",
   "name": "python3"
  },
  "language_info": {
   "codemirror_mode": {
    "name": "ipython",
    "version": 2
   },
   "file_extension": ".py",
   "mimetype": "text/x-python",
   "name": "python",
   "nbconvert_exporter": "python",
   "pygments_lexer": "ipython2",
   "version": "2.7.6"
  }
 },
 "nbformat": 4,
 "nbformat_minor": 0
}
