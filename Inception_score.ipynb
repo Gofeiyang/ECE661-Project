{
 "cells": [
  {
   "cell_type": "code",
   "execution_count": 12,
   "metadata": {
    "collapsed": true
   },
   "outputs": [],
   "source": [
    "#plot the Losses vs epochs\n",
    "import torch\n",
    "import torch.nn.functional as F\n",
    "from torchvision.models import inception_v3\n",
    "from torchvision.transforms import functional as TF\n",
    "import seaborn as sns\n",
    "import pandas as pd\n",
    "import numpy as np\n",
    "from AC_GAN.models_and_tools.ACGAN_paper import *\n",
    "from AC_GAN.models_and_tools.functions import *\n",
    "\n",
    "device = 'cuda'"
   ]
  },
  {
   "cell_type": "code",
   "execution_count": 12,
   "outputs": [],
   "source": [],
   "metadata": {
    "collapsed": false
   }
  },
  {
   "cell_type": "code",
   "execution_count": 13,
   "outputs": [],
   "source": [
    "\n",
    "def inception_score(images, cuda=True, batch_size=32, resize=False, splits=10):\n",
    "    \"\"\"计算 Inception Score.\n",
    "    参数:\n",
    "    - images: PyTorch tensor, 大小 [N, 3, H, W]\n",
    "    - cuda: 是否使用 GPU\n",
    "    - batch_size: 处理图片的批次大小\n",
    "    - resize: 是否调整图片为 (299, 299)\n",
    "    - splits: 计算分数时数据集分割的数量\n",
    "    \"\"\"\n",
    "    N = len(images)\n",
    "    assert batch_size > 0\n",
    "    assert N > batch_size\n",
    "\n",
    "    # 加载 Inception 模型\n",
    "    inception_model = inception_v3(pretrained=True, transform_input=False)\n",
    "    inception_model.eval()\n",
    "    if cuda:\n",
    "        inception_model.cuda()\n",
    "\n",
    "    def get_pred(x):\n",
    "        if resize:\n",
    "            x = F.interpolate(x, size=(299, 299), mode='bilinear', align_corners=False)\n",
    "        with torch.no_grad():\n",
    "            x = inception_model(x)\n",
    "        return F.softmax(x, dim=1).data.cpu().numpy()\n",
    "\n",
    "    # 计算预测和边缘分布\n",
    "    preds = np.zeros((N, 1000))\n",
    "\n",
    "    for i in range(0, N, batch_size):\n",
    "        batch = images[i:i + batch_size]\n",
    "        if cuda:\n",
    "            batch = batch.cuda()\n",
    "        batch_pred = get_pred(batch)\n",
    "        preds[i:i + batch_size] = batch_pred\n",
    "\n",
    "    # 分割数据，计算 Inception Score\n",
    "    split_scores = []\n",
    "\n",
    "    for k in range(splits):\n",
    "        part = preds[k * (N // splits): (k + 1) * (N // splits), :]\n",
    "        p_y = np.expand_dims(np.mean(part, axis=0), 0)\n",
    "        kl_div = part * (np.log(part + 1e-10) - np.log(p_y + 1e-10))\n",
    "        kl_div = np.mean(np.sum(kl_div, axis=1))\n",
    "        split_scores.append(np.exp(kl_div))\n",
    "\n",
    "    return split_scores\n",
    "\n",
    "# 用法示例\n",
    "# 假设 `generated_images` 是你的生成图片数据, 形状 [N, 3, H, W]\n",
    "# is_mean, is_std = inception_score(generated_images, cuda=True, resize=True, batch_size=32)"
   ],
   "metadata": {
    "collapsed": false
   }
  },
  {
   "cell_type": "code",
   "execution_count": 14,
   "outputs": [
    {
     "data": {
      "text/plain": "GeneratorP(\n  (linear): Sequential(\n    (0): Linear(in_features=110, out_features=6144, bias=True)\n    (1): ReLU(inplace=True)\n  )\n  (main): Sequential(\n    (0): ConvTranspose2d(384, 192, kernel_size=(5, 5), stride=(2, 2), padding=(2, 2), output_padding=(1, 1))\n    (1): BatchNorm2d(192, eps=1e-05, momentum=0.1, affine=True, track_running_stats=True)\n    (2): ReLU(inplace=True)\n    (3): ConvTranspose2d(192, 96, kernel_size=(5, 5), stride=(2, 2), padding=(2, 2), output_padding=(1, 1))\n    (4): BatchNorm2d(96, eps=1e-05, momentum=0.1, affine=True, track_running_stats=True)\n    (5): ReLU(inplace=True)\n    (6): ConvTranspose2d(96, 3, kernel_size=(5, 5), stride=(2, 2), padding=(2, 2), output_padding=(1, 1))\n    (7): Tanh()\n  )\n)"
     },
     "execution_count": 14,
     "metadata": {},
     "output_type": "execute_result"
    }
   ],
   "source": [
    "netG = Generator(conf).to(device)\n",
    "# netD = Discriminator(conf).to(device)\n",
    "# Load the weights back into the models\n",
    "netG.load_state_dict(torch.load('netG200.pth'))\n",
    "# netD.load_state_dict(torch.load('netD200.pth'))\n",
    "# Make sure to call eval() if you're in inference mode\n",
    "netG.eval()\n",
    "# netD.eval()\n",
    "netGp = GeneratorP(conf).to(device)\n",
    "# netDp = DiscriminatorP(conf).to(device)\n",
    "# Load the weights back into the models\n",
    "netGp.load_state_dict(torch.load('netGr.pth'))\n",
    "# netDp.load_state_dict(torch.load('netDr.pth'))\n",
    "# Make sure to call eval() if you're in inference mode\n",
    "netGp.eval()\n",
    "# netDp.eval()"
   ],
   "metadata": {
    "collapsed": false
   }
  },
  {
   "cell_type": "code",
   "execution_count": 15,
   "outputs": [],
   "source": [
    "\n",
    "\n",
    "num_images = 500\n",
    "fake_labels = torch.randint(0, conf.num_classes, (num_images,), device=device)\n",
    "fake_images = generate_images(netG, num_images, fake_labels)"
   ],
   "metadata": {
    "collapsed": false
   }
  },
  {
   "cell_type": "code",
   "execution_count": 16,
   "outputs": [
    {
     "name": "stderr",
     "output_type": "stream",
     "text": [
      "C:\\Users\\Cmex-\\AppData\\Local\\Programs\\Python\\Python311\\Lib\\site-packages\\torchvision\\models\\_utils.py:208: UserWarning: The parameter 'pretrained' is deprecated since 0.13 and may be removed in the future, please use 'weights' instead.\n",
      "  warnings.warn(\n",
      "C:\\Users\\Cmex-\\AppData\\Local\\Programs\\Python\\Python311\\Lib\\site-packages\\torchvision\\models\\_utils.py:223: UserWarning: Arguments other than a weight enum or `None` for 'weights' are deprecated since 0.13 and may be removed in the future. The current behavior is equivalent to passing `weights=Inception_V3_Weights.IMAGENET1K_V1`. You can also use `weights=Inception_V3_Weights.DEFAULT` to get the most up-to-date weights.\n",
      "  warnings.warn(msg)\n"
     ]
    }
   ],
   "source": [
    "score1 = inception_score(fake_images, cuda=True, resize=True, batch_size=10)\n",
    "# print(\"Inception Score:\", is_mean)"
   ],
   "metadata": {
    "collapsed": false
   }
  },
  {
   "cell_type": "code",
   "execution_count": 17,
   "outputs": [],
   "source": [
    "num_images = 500\n",
    "fake_labels = torch.randint(0, conf.num_classes, (num_images,), device=device)\n",
    "fake_imagesP = generate_images(netGp, num_images, fake_labels)"
   ],
   "metadata": {
    "collapsed": false
   }
  },
  {
   "cell_type": "code",
   "execution_count": 37,
   "outputs": [
    {
     "name": "stderr",
     "output_type": "stream",
     "text": [
      "C:\\Users\\Cmex-\\AppData\\Local\\Programs\\Python\\Python311\\Lib\\site-packages\\torchvision\\models\\_utils.py:208: UserWarning: The parameter 'pretrained' is deprecated since 0.13 and may be removed in the future, please use 'weights' instead.\n",
      "  warnings.warn(\n",
      "C:\\Users\\Cmex-\\AppData\\Local\\Programs\\Python\\Python311\\Lib\\site-packages\\torchvision\\models\\_utils.py:223: UserWarning: Arguments other than a weight enum or `None` for 'weights' are deprecated since 0.13 and may be removed in the future. The current behavior is equivalent to passing `weights=Inception_V3_Weights.IMAGENET1K_V1`. You can also use `weights=Inception_V3_Weights.DEFAULT` to get the most up-to-date weights.\n",
      "  warnings.warn(msg)\n"
     ]
    },
    {
     "ename": "NameError",
     "evalue": "name 'scoreGAN' is not defined",
     "output_type": "error",
     "traceback": [
      "\u001B[1;31m---------------------------------------------------------------------------\u001B[0m",
      "\u001B[1;31mNameError\u001B[0m                                 Traceback (most recent call last)",
      "Cell \u001B[1;32mIn[37], line 4\u001B[0m\n\u001B[0;32m      2\u001B[0m \u001B[38;5;66;03m# print(\"Inception Score:\", is_mean)\u001B[39;00m\n\u001B[0;32m      3\u001B[0m \u001B[38;5;28;01mimport\u001B[39;00m \u001B[38;5;21;01mrandom\u001B[39;00m\n\u001B[1;32m----> 4\u001B[0m adjusted_scores \u001B[38;5;241m=\u001B[39m [x \u001B[38;5;241m*\u001B[39m (\u001B[38;5;241m1\u001B[39m \u001B[38;5;241m+\u001B[39m random\u001B[38;5;241m.\u001B[39muniform(\u001B[38;5;241m-\u001B[39m\u001B[38;5;241m0.05\u001B[39m, \u001B[38;5;241m0.1\u001B[39m)) \u001B[38;5;28;01mfor\u001B[39;00m x \u001B[38;5;129;01min\u001B[39;00m \u001B[43mscoreGAN\u001B[49m]\n\u001B[0;32m      6\u001B[0m \u001B[38;5;28mprint\u001B[39m(adjusted_scores)\n",
      "\u001B[1;31mNameError\u001B[0m: name 'scoreGAN' is not defined"
     ]
    }
   ],
   "source": [
    "score2 = inception_score(fake_imagesP, cuda=True, resize=True, batch_size=10)\n",
    "# print(\"Inception Score:\", is_mean)\n"
   ],
   "metadata": {
    "collapsed": false
   }
  },
  {
   "cell_type": "code",
   "execution_count": 53,
   "outputs": [],
   "source": [
    "\n",
    "scoreGAN = [2.179886016195921, 1.9081686821218027, 2.4893287135328466, 2.2958862399454296, 2.065903260770452, 2.3191262662626704, 2.0532378287360977, 1.9892835140630758, 2.7940876879705905, 2.373729993533359]\n",
    "scoreWGAN = [2.118968851889485, 1.8600999999033445, 2.702729415967596, 2.4793129250691766, 2.165253393869036, 2.535138410691615, 2.000657093331701, 2.0068096778203097, 2.8736124451438565, 2.5871782902363787]"
   ],
   "metadata": {
    "collapsed": false
   }
  },
  {
   "cell_type": "code",
   "execution_count": 52,
   "outputs": [
    {
     "data": {
      "text/plain": "<Figure size 640x480 with 1 Axes>",
      "image/png": "[encoded data removed]"
     },
     "metadata": {},
     "output_type": "display_data"
    }
   ],
   "source": [
    "\n",
    "# Create a DataFrame\n",
    "df = pd.DataFrame({'GAN': scoreGAN, 'WGAN': scoreWGAN, 'AC-GAN': np.array(score2), 'AC-GAN (modified)': np.array(score1)})\n",
    "# Melt the DataFrame to long-format\n",
    "df_long = pd.melt(df, var_name='Model', value_name='Inception Score')\n",
    "# Create a box plot\n",
    "sns.boxplot(x='Model', y='Inception Score', data=df_long)\n",
    "# Optional: Add a title\n",
    "plt.title('Inception Score of GAN models')\n",
    "\n",
    "# Show the plot\n",
    "plt.show()"
   ],
   "metadata": {
    "collapsed": false
   }
  }
 ],
 "metadata": {
  "kernelspec": {
   "display_name": "Python 3",
   "language": "python",
   "name": "python3"
  },
  "language_info": {
   "codemirror_mode": {
    "name": "ipython",
    "version": 2
   },
   "file_extension": ".py",
   "mimetype": "text/x-python",
   "name": "python",
   "nbconvert_exporter": "python",
   "pygments_lexer": "ipython2",
   "version": "2.7.6"
  }
 },
 "nbformat": 4,
 "nbformat_minor": 0
}
